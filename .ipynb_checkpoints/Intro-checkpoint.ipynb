{
 "cells": [
  {
   "cell_type": "markdown",
   "metadata": {},
   "source": [
    "Ce répertoire contient plusieurs cours qui couvre le notions les plus marquantes du cours de Complément Mathématiques 1. Ce cours s'adresse principalement aux étudiants du cycle L2-PACES pour une mise à niveau Matlab. \n",
    "\n",
    "# Introduction aux langages de programmation scientifique\n",
    "\n",
    "## Quel langage ? \n",
    "\n",
    "Matlab étant un logiciel propriétaire, il est impossible de proposer un cours sans une licence. Ainsi, nous utilisons un logiciel sensiblement identique et open source : Octave.  L'informatique est un outil non négligeable pour le mathématicien, il permet de pouvoir considérer les problèmes sous de nouveaux angles. Le domaine de l'analyse numérique a beaucoup gagné durant "
   ]
  },
  {
   "cell_type": "code",
   "execution_count": 5,
   "metadata": {},
   "outputs": [
    {
     "name": "stdout",
     "output_type": "stream",
     "text": [
      "y =\n",
      "\n",
      "   3   5\n",
      "   7   8\n",
      "   4   6\n",
      "\n"
     ]
    }
   ],
   "source": [
    "x = [3 5; 7 8];\n",
    "y = [x ; 4 6]\n"
   ]
  },
  {
   "cell_type": "code",
   "execution_count": null,
   "metadata": {},
   "outputs": [],
   "source": []
  }
 ],
 "metadata": {
  "kernelspec": {
   "display_name": "Octave",
   "language": "octave",
   "name": "octave"
  },
  "language_info": {
   "file_extension": ".m",
   "help_links": [
    {
     "text": "GNU Octave",
     "url": "https://www.gnu.org/software/octave/support.html"
    },
    {
     "text": "Octave Kernel",
     "url": "https://github.com/Calysto/octave_kernel"
    },
    {
     "text": "MetaKernel Magics",
     "url": "https://github.com/calysto/metakernel/blob/master/metakernel/magics/README.md"
    }
   ],
   "mimetype": "text/x-octave",
   "name": "octave",
   "version": "4.4.0"
  }
 },
 "nbformat": 4,
 "nbformat_minor": 2
}
